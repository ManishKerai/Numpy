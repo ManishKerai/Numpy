{
 "cells": [
  {
   "cell_type": "markdown",
   "id": "cb1ca5de",
   "metadata": {},
   "source": [
    "# NumPy\n",
    "\n",
    "Numpy is a linear algebra library for python. Almost all the libraries in PyData ecosysystem reply on Numpy.\n",
    "\n",
    "Numpy is a fundamental package for scientific computing in python. It provides:\n",
    "- multidimentional array object\n",
    "- various derived objects (such as masked arrays and matrices)\n",
    "- various operations on array for fast outcomes (such as sorting, shaping, mathematical and operations etc.)"
   ]
  },
  {
   "cell_type": "code",
   "execution_count": 1,
   "id": "6c2a9c93",
   "metadata": {},
   "outputs": [],
   "source": [
    "# considering numpy is pre installed, let's import numpy library at first\n",
    "\n",
    "import numpy as np"
   ]
  },
  {
   "cell_type": "markdown",
   "id": "be2028ca",
   "metadata": {},
   "source": [
    "## Numpy Arrays\n",
    "\n",
    "We will mainly use numpy arrays to create arrays in numpy. Numpy arrays are essentially of two types: \n",
    "- Vectors (Vectors are strictly 1-D array)\n",
    "- Matrices (Matrices are 2-D array)\n"
   ]
  },
  {
   "cell_type": "markdown",
   "id": "5dd74beb",
   "metadata": {},
   "source": [
    "### Creating Numpy Arrays\n",
    "\n",
    "#### From Python List"
   ]
  },
  {
   "cell_type": "code",
   "execution_count": 2,
   "id": "fe218b6e",
   "metadata": {},
   "outputs": [],
   "source": [
    "score = [0,3,4,2,1]"
   ]
  },
  {
   "cell_type": "code",
   "execution_count": 3,
   "id": "f020191d",
   "metadata": {},
   "outputs": [],
   "source": [
    "ar_1 = np.array(score)"
   ]
  },
  {
   "cell_type": "code",
   "execution_count": 4,
   "id": "328a0348",
   "metadata": {},
   "outputs": [
    {
     "data": {
      "text/plain": [
       "array([0, 3, 4, 2, 1])"
      ]
     },
     "execution_count": 4,
     "metadata": {},
     "output_type": "execute_result"
    }
   ],
   "source": [
    "ar_1"
   ]
  },
  {
   "cell_type": "code",
   "execution_count": 8,
   "id": "8d4d30d3",
   "metadata": {},
   "outputs": [
    {
     "data": {
      "text/plain": [
       "[[0, 2, 1], [3, 4, 6]]"
      ]
     },
     "execution_count": 8,
     "metadata": {},
     "output_type": "execute_result"
    }
   ],
   "source": [
    "#creating matrix\n",
    "score_mat = [[0,2,1],[3,4,6]]\n",
    "score_mat"
   ]
  },
  {
   "cell_type": "code",
   "execution_count": 9,
   "id": "3797fa07",
   "metadata": {},
   "outputs": [
    {
     "data": {
      "text/plain": [
       "array([[0, 2, 1],\n",
       "       [3, 4, 6]])"
      ]
     },
     "execution_count": 9,
     "metadata": {},
     "output_type": "execute_result"
    }
   ],
   "source": [
    "np.array(score_mat)"
   ]
  },
  {
   "cell_type": "markdown",
   "id": "97da43f2",
   "metadata": {},
   "source": [
    "### Built-In Methods\n",
    "\n",
    "#### arange\n",
    "Return evenly spaced values between a given range"
   ]
  },
  {
   "cell_type": "code",
   "execution_count": 10,
   "id": "49b9cd2a",
   "metadata": {},
   "outputs": [
    {
     "data": {
      "text/plain": [
       "array([0, 1, 2, 3, 4, 5, 6, 7, 8, 9])"
      ]
     },
     "execution_count": 10,
     "metadata": {},
     "output_type": "execute_result"
    }
   ],
   "source": [
    "np.arange(0,10)"
   ]
  },
  {
   "cell_type": "code",
   "execution_count": 11,
   "id": "06dad6ac",
   "metadata": {},
   "outputs": [
    {
     "data": {
      "text/plain": [
       "array([ 0,  2,  4,  6,  8, 10, 12, 14, 16, 18])"
      ]
     },
     "execution_count": 11,
     "metadata": {},
     "output_type": "execute_result"
    }
   ],
   "source": [
    "#we can add a step in arange \n",
    "np.arange(0,20,2)"
   ]
  },
  {
   "cell_type": "code",
   "execution_count": 12,
   "id": "3dd6bca8",
   "metadata": {},
   "outputs": [
    {
     "data": {
      "text/plain": [
       "array([ 0,  3,  6,  9, 12, 15, 18])"
      ]
     },
     "execution_count": 12,
     "metadata": {},
     "output_type": "execute_result"
    }
   ],
   "source": [
    "new_array = np.arange(0,20,3)\n",
    "new_array"
   ]
  },
  {
   "cell_type": "markdown",
   "id": "b48c2e28",
   "metadata": {},
   "source": [
    "### Zeros and Ones\n",
    "\n",
    "Generate arrays of zeros and ones"
   ]
  },
  {
   "cell_type": "code",
   "execution_count": 13,
   "id": "f3f8a477",
   "metadata": {},
   "outputs": [
    {
     "data": {
      "text/plain": [
       "array([0., 0., 0., 0.])"
      ]
     },
     "execution_count": 13,
     "metadata": {},
     "output_type": "execute_result"
    }
   ],
   "source": [
    "np.zeros(4)"
   ]
  },
  {
   "cell_type": "code",
   "execution_count": 18,
   "id": "8712ca86",
   "metadata": {},
   "outputs": [
    {
     "data": {
      "text/plain": [
       "array([[0., 0., 0., 0., 0.],\n",
       "       [0., 0., 0., 0., 0.],\n",
       "       [0., 0., 0., 0., 0.],\n",
       "       [0., 0., 0., 0., 0.],\n",
       "       [0., 0., 0., 0., 0.]])"
      ]
     },
     "execution_count": 18,
     "metadata": {},
     "output_type": "execute_result"
    }
   ],
   "source": [
    "np.zeros((5,5))"
   ]
  },
  {
   "cell_type": "code",
   "execution_count": 19,
   "id": "eb2dd5a1",
   "metadata": {},
   "outputs": [
    {
     "data": {
      "text/plain": [
       "array([1., 1., 1.])"
      ]
     },
     "execution_count": 19,
     "metadata": {},
     "output_type": "execute_result"
    }
   ],
   "source": [
    "np.ones(3)"
   ]
  },
  {
   "cell_type": "code",
   "execution_count": 21,
   "id": "e0864f1e",
   "metadata": {},
   "outputs": [
    {
     "data": {
      "text/plain": [
       "array([[1., 1., 1., 1.],\n",
       "       [1., 1., 1., 1.],\n",
       "       [1., 1., 1., 1.],\n",
       "       [1., 1., 1., 1.]])"
      ]
     },
     "execution_count": 21,
     "metadata": {},
     "output_type": "execute_result"
    }
   ],
   "source": [
    "np.ones((4,4))"
   ]
  },
  {
   "cell_type": "markdown",
   "id": "bc03b51a",
   "metadata": {},
   "source": [
    "### linspace\n",
    "Return evenly spaced numbers over a specified interval"
   ]
  },
  {
   "cell_type": "code",
   "execution_count": 26,
   "id": "35c3c53c",
   "metadata": {},
   "outputs": [
    {
     "data": {
      "text/plain": [
       "array([ 0.,  5., 10.])"
      ]
     },
     "execution_count": 26,
     "metadata": {},
     "output_type": "execute_result"
    }
   ],
   "source": [
    "np.linspace(0,10,3)"
   ]
  },
  {
   "cell_type": "code",
   "execution_count": 27,
   "id": "36991050",
   "metadata": {},
   "outputs": [
    {
     "data": {
      "text/plain": [
       "array([0.        , 0.05263158, 0.10526316, 0.15789474, 0.21052632,\n",
       "       0.26315789, 0.31578947, 0.36842105, 0.42105263, 0.47368421,\n",
       "       0.52631579, 0.57894737, 0.63157895, 0.68421053, 0.73684211,\n",
       "       0.78947368, 0.84210526, 0.89473684, 0.94736842, 1.        ])"
      ]
     },
     "execution_count": 27,
     "metadata": {},
     "output_type": "execute_result"
    }
   ],
   "source": [
    "np.linspace(0,1,20)"
   ]
  },
  {
   "cell_type": "markdown",
   "id": "f4ddd094",
   "metadata": {},
   "source": [
    "### eye\n",
    "Creates an identity matrix"
   ]
  },
  {
   "cell_type": "code",
   "execution_count": 29,
   "id": "f3f64d8f",
   "metadata": {},
   "outputs": [
    {
     "data": {
      "text/plain": [
       "array([[1., 0., 0.],\n",
       "       [0., 1., 0.],\n",
       "       [0., 0., 1.]])"
      ]
     },
     "execution_count": 29,
     "metadata": {},
     "output_type": "execute_result"
    }
   ],
   "source": [
    "np.eye(3)"
   ]
  },
  {
   "cell_type": "code",
   "execution_count": 30,
   "id": "29980fd0",
   "metadata": {},
   "outputs": [
    {
     "data": {
      "text/plain": [
       "array([[4., 0., 0., 0., 0.],\n",
       "       [0., 4., 0., 0., 0.],\n",
       "       [0., 0., 4., 0., 0.],\n",
       "       [0., 0., 0., 4., 0.],\n",
       "       [0., 0., 0., 0., 4.]])"
      ]
     },
     "execution_count": 30,
     "metadata": {},
     "output_type": "execute_result"
    }
   ],
   "source": [
    "np.eye(5) * 4"
   ]
  },
  {
   "cell_type": "markdown",
   "id": "6686e15c",
   "metadata": {},
   "source": [
    "### Random\n",
    "\n",
    "#### rand\n",
    "Create an array of the given shape and populate it with random samples from a uniform distribution over (0, 1).\n"
   ]
  },
  {
   "cell_type": "code",
   "execution_count": 34,
   "id": "23f333d2",
   "metadata": {},
   "outputs": [
    {
     "data": {
      "text/plain": [
       "array([0.8530994 , 0.47821909, 0.70641624, 0.76730117])"
      ]
     },
     "execution_count": 34,
     "metadata": {},
     "output_type": "execute_result"
    }
   ],
   "source": [
    "np.random.rand(4)"
   ]
  },
  {
   "cell_type": "code",
   "execution_count": 35,
   "id": "7b7dd5d0",
   "metadata": {},
   "outputs": [
    {
     "data": {
      "text/plain": [
       "array([[0.01060008, 0.91731608, 0.92949408],\n",
       "       [0.33750088, 0.1184742 , 0.91699374],\n",
       "       [0.52094789, 0.8998757 , 0.71873362],\n",
       "       [0.65542988, 0.15994216, 0.95402   ]])"
      ]
     },
     "execution_count": 35,
     "metadata": {},
     "output_type": "execute_result"
    }
   ],
   "source": [
    "np.random.rand(4,3)"
   ]
  },
  {
   "cell_type": "markdown",
   "id": "2b968f76",
   "metadata": {},
   "source": [
    "### randn\n",
    "returns a sample or samples from 'satndard normal distribution' unlike rand which returns uniform distribution"
   ]
  },
  {
   "cell_type": "code",
   "execution_count": 37,
   "id": "6cfeacf6",
   "metadata": {},
   "outputs": [
    {
     "data": {
      "text/plain": [
       "array([-0.17717065, -0.36883026, -1.43970421,  0.19236119])"
      ]
     },
     "execution_count": 37,
     "metadata": {},
     "output_type": "execute_result"
    }
   ],
   "source": [
    "np.random.randn(4)"
   ]
  },
  {
   "cell_type": "code",
   "execution_count": 38,
   "id": "17d50ec0",
   "metadata": {},
   "outputs": [
    {
     "data": {
      "text/plain": [
       "array([[-0.63606542,  2.0828409 ,  1.1426802 ],\n",
       "       [ 1.01863562, -0.85450002,  1.3652764 ],\n",
       "       [-0.91611089, -0.24823997, -1.82124494],\n",
       "       [ 1.1707394 ,  2.06114297, -0.06035173]])"
      ]
     },
     "execution_count": 38,
     "metadata": {},
     "output_type": "execute_result"
    }
   ],
   "source": [
    "np.random.randn(4,3)"
   ]
  },
  {
   "cell_type": "markdown",
   "id": "b5d71934",
   "metadata": {},
   "source": [
    "### randint\n",
    "\n",
    "returns random integer from a range low(inclusive) to high(exclusive)"
   ]
  },
  {
   "cell_type": "code",
   "execution_count": 40,
   "id": "26452488",
   "metadata": {},
   "outputs": [
    {
     "data": {
      "text/plain": [
       "60"
      ]
     },
     "execution_count": 40,
     "metadata": {},
     "output_type": "execute_result"
    }
   ],
   "source": [
    "np.random.randint(0,101)"
   ]
  },
  {
   "cell_type": "code",
   "execution_count": 41,
   "id": "00741bec",
   "metadata": {},
   "outputs": [
    {
     "data": {
      "text/plain": [
       "array([40, 31, 68, 94, 82, 84, 35, 44, 16, 61])"
      ]
     },
     "execution_count": 41,
     "metadata": {},
     "output_type": "execute_result"
    }
   ],
   "source": [
    "np.random.randint(0,101,10)"
   ]
  },
  {
   "cell_type": "markdown",
   "id": "5449def3",
   "metadata": {},
   "source": [
    "### Array Attributes and Methods\n"
   ]
  },
  {
   "cell_type": "code",
   "execution_count": 42,
   "id": "814b55b9",
   "metadata": {},
   "outputs": [],
   "source": [
    "nparr = np.arange(25)\n",
    "ranarr = np.random.randint(0,50,20)"
   ]
  },
  {
   "cell_type": "code",
   "execution_count": 43,
   "id": "a84bc70e",
   "metadata": {},
   "outputs": [
    {
     "data": {
      "text/plain": [
       "array([ 0,  1,  2,  3,  4,  5,  6,  7,  8,  9, 10, 11, 12, 13, 14, 15, 16,\n",
       "       17, 18, 19, 20, 21, 22, 23, 24])"
      ]
     },
     "execution_count": 43,
     "metadata": {},
     "output_type": "execute_result"
    }
   ],
   "source": [
    "nparr"
   ]
  },
  {
   "cell_type": "code",
   "execution_count": 44,
   "id": "35dd7dbc",
   "metadata": {},
   "outputs": [
    {
     "data": {
      "text/plain": [
       "array([32,  1, 48, 41, 26, 20, 32, 12, 36, 38, 14, 39, 43, 13, 35, 34, 41,\n",
       "        0, 20, 10])"
      ]
     },
     "execution_count": 44,
     "metadata": {},
     "output_type": "execute_result"
    }
   ],
   "source": [
    "ranarr"
   ]
  },
  {
   "cell_type": "markdown",
   "id": "92fabc48",
   "metadata": {},
   "source": [
    "### Reshape\n",
    "\n",
    "reshapes the array. returns same array with new shape"
   ]
  },
  {
   "cell_type": "code",
   "execution_count": 45,
   "id": "270b1902",
   "metadata": {},
   "outputs": [
    {
     "data": {
      "text/plain": [
       "array([[ 0,  1,  2,  3,  4],\n",
       "       [ 5,  6,  7,  8,  9],\n",
       "       [10, 11, 12, 13, 14],\n",
       "       [15, 16, 17, 18, 19],\n",
       "       [20, 21, 22, 23, 24]])"
      ]
     },
     "execution_count": 45,
     "metadata": {},
     "output_type": "execute_result"
    }
   ],
   "source": [
    "nparr.reshape(5,5)"
   ]
  },
  {
   "cell_type": "code",
   "execution_count": 47,
   "id": "9f2b0a50",
   "metadata": {},
   "outputs": [
    {
     "data": {
      "text/plain": [
       "array([[32,  1, 48, 41, 26],\n",
       "       [20, 32, 12, 36, 38],\n",
       "       [14, 39, 43, 13, 35],\n",
       "       [34, 41,  0, 20, 10]])"
      ]
     },
     "execution_count": 47,
     "metadata": {},
     "output_type": "execute_result"
    }
   ],
   "source": [
    "ranarr.reshape(4,5)"
   ]
  },
  {
   "cell_type": "code",
   "execution_count": 49,
   "id": "5be15466",
   "metadata": {},
   "outputs": [
    {
     "data": {
      "text/plain": [
       "array([[32,  1],\n",
       "       [48, 41],\n",
       "       [26, 20],\n",
       "       [32, 12],\n",
       "       [36, 38],\n",
       "       [14, 39],\n",
       "       [43, 13],\n",
       "       [35, 34],\n",
       "       [41,  0],\n",
       "       [20, 10]])"
      ]
     },
     "execution_count": 49,
     "metadata": {},
     "output_type": "execute_result"
    }
   ],
   "source": [
    "ranarr.reshape(10,2)"
   ]
  },
  {
   "cell_type": "markdown",
   "id": "2df43d7e",
   "metadata": {},
   "source": [
    "### min,max,argmin,argmax\n",
    "\n",
    "These methods are used to finding min and max value in an array. Or to find the index locations using argmin and argmax "
   ]
  },
  {
   "cell_type": "code",
   "execution_count": 55,
   "id": "30c01a00",
   "metadata": {},
   "outputs": [
    {
     "data": {
      "text/plain": [
       "0"
      ]
     },
     "execution_count": 55,
     "metadata": {},
     "output_type": "execute_result"
    }
   ],
   "source": [
    "nparr.min()"
   ]
  },
  {
   "cell_type": "code",
   "execution_count": 56,
   "id": "6d8973a5",
   "metadata": {},
   "outputs": [
    {
     "data": {
      "text/plain": [
       "24"
      ]
     },
     "execution_count": 56,
     "metadata": {},
     "output_type": "execute_result"
    }
   ],
   "source": [
    "nparr.max()"
   ]
  },
  {
   "cell_type": "code",
   "execution_count": 58,
   "id": "cb01519e",
   "metadata": {},
   "outputs": [
    {
     "data": {
      "text/plain": [
       "48"
      ]
     },
     "execution_count": 58,
     "metadata": {},
     "output_type": "execute_result"
    }
   ],
   "source": [
    "ranarr.max()"
   ]
  },
  {
   "cell_type": "code",
   "execution_count": 59,
   "id": "8ed5a28c",
   "metadata": {},
   "outputs": [
    {
     "data": {
      "text/plain": [
       "2"
      ]
     },
     "execution_count": 59,
     "metadata": {},
     "output_type": "execute_result"
    }
   ],
   "source": [
    "ranarr.argmax()"
   ]
  },
  {
   "cell_type": "code",
   "execution_count": 60,
   "id": "8a0196af",
   "metadata": {},
   "outputs": [
    {
     "data": {
      "text/plain": [
       "array([32,  1, 48, 41, 26, 20, 32, 12, 36, 38, 14, 39, 43, 13, 35, 34, 41,\n",
       "        0, 20, 10])"
      ]
     },
     "execution_count": 60,
     "metadata": {},
     "output_type": "execute_result"
    }
   ],
   "source": [
    "#just to check the array\n",
    "ranarr"
   ]
  },
  {
   "cell_type": "code",
   "execution_count": 62,
   "id": "5150308d",
   "metadata": {},
   "outputs": [
    {
     "data": {
      "text/plain": [
       "17"
      ]
     },
     "execution_count": 62,
     "metadata": {},
     "output_type": "execute_result"
    }
   ],
   "source": [
    "ranarr.argmin()"
   ]
  },
  {
   "cell_type": "markdown",
   "id": "01791b6f",
   "metadata": {},
   "source": [
    "### Shape\n",
    "tells no. of attributes an array have (not a method)"
   ]
  },
  {
   "cell_type": "code",
   "execution_count": 63,
   "id": "f4b8d472",
   "metadata": {},
   "outputs": [
    {
     "data": {
      "text/plain": [
       "(20,)"
      ]
     },
     "execution_count": 63,
     "metadata": {},
     "output_type": "execute_result"
    }
   ],
   "source": [
    "ranarr.shape"
   ]
  },
  {
   "cell_type": "code",
   "execution_count": 64,
   "id": "6a7cefa9",
   "metadata": {},
   "outputs": [
    {
     "data": {
      "text/plain": [
       "(25,)"
      ]
     },
     "execution_count": 64,
     "metadata": {},
     "output_type": "execute_result"
    }
   ],
   "source": [
    "nparr.shape"
   ]
  },
  {
   "cell_type": "code",
   "execution_count": 65,
   "id": "5a48421b",
   "metadata": {},
   "outputs": [
    {
     "data": {
      "text/plain": [
       "array([[ 0,  1,  2,  3,  4],\n",
       "       [ 5,  6,  7,  8,  9],\n",
       "       [10, 11, 12, 13, 14],\n",
       "       [15, 16, 17, 18, 19],\n",
       "       [20, 21, 22, 23, 24]])"
      ]
     },
     "execution_count": 65,
     "metadata": {},
     "output_type": "execute_result"
    }
   ],
   "source": [
    "new_nparr = nparr.reshape(5,5)\n",
    "new_nparr"
   ]
  },
  {
   "cell_type": "code",
   "execution_count": 66,
   "id": "1df38ba1",
   "metadata": {},
   "outputs": [
    {
     "data": {
      "text/plain": [
       "(5, 5)"
      ]
     },
     "execution_count": 66,
     "metadata": {},
     "output_type": "execute_result"
    }
   ],
   "source": [
    "new_nparr.shape"
   ]
  },
  {
   "cell_type": "markdown",
   "id": "09e7e530",
   "metadata": {},
   "source": [
    "### dtype\n",
    "tells the data type of the object in an array"
   ]
  },
  {
   "cell_type": "code",
   "execution_count": 67,
   "id": "7e62d529",
   "metadata": {},
   "outputs": [
    {
     "data": {
      "text/plain": [
       "dtype('int32')"
      ]
     },
     "execution_count": 67,
     "metadata": {},
     "output_type": "execute_result"
    }
   ],
   "source": [
    "nparr.dtype"
   ]
  },
  {
   "cell_type": "code",
   "execution_count": 68,
   "id": "c7b3cff6",
   "metadata": {},
   "outputs": [
    {
     "data": {
      "text/plain": [
       "dtype('int32')"
      ]
     },
     "execution_count": 68,
     "metadata": {},
     "output_type": "execute_result"
    }
   ],
   "source": [
    "ranarr.dtype"
   ]
  },
  {
   "cell_type": "markdown",
   "id": "6af2abac",
   "metadata": {},
   "source": [
    "## Numpy Indexing and Selection\n",
    "\n"
   ]
  },
  {
   "cell_type": "code",
   "execution_count": 71,
   "id": "84ab7b94",
   "metadata": {},
   "outputs": [
    {
     "data": {
      "text/plain": [
       "array([20, 21, 22, 23, 24, 25, 26, 27, 28, 29])"
      ]
     },
     "execution_count": 71,
     "metadata": {},
     "output_type": "execute_result"
    }
   ],
   "source": [
    "in_arr = np.arange(20,30)\n",
    "in_arr"
   ]
  },
  {
   "cell_type": "markdown",
   "id": "c67ba4fa",
   "metadata": {},
   "source": [
    "### Bracket Indexing and Selection"
   ]
  },
  {
   "cell_type": "code",
   "execution_count": 73,
   "id": "e411f5aa",
   "metadata": {},
   "outputs": [
    {
     "data": {
      "text/plain": [
       "23"
      ]
     },
     "execution_count": 73,
     "metadata": {},
     "output_type": "execute_result"
    }
   ],
   "source": [
    "#get the value at an index\n",
    "in_arr[3]"
   ]
  },
  {
   "cell_type": "code",
   "execution_count": 76,
   "id": "6bb38e4b",
   "metadata": {},
   "outputs": [
    {
     "data": {
      "text/plain": [
       "array([23, 24, 25, 26])"
      ]
     },
     "execution_count": 76,
     "metadata": {},
     "output_type": "execute_result"
    }
   ],
   "source": [
    "#get values in a range\n",
    "in_arr[3:7]\n",
    "\n",
    "#Note that it will include the element at first position and exclude the last element of the range"
   ]
  },
  {
   "cell_type": "markdown",
   "id": "570bf854",
   "metadata": {},
   "source": [
    "### Broadcasting\n",
    "\n",
    "Numpy arrays habe the ability to broadcast unline python lists which don't have this feature"
   ]
  },
  {
   "cell_type": "code",
   "execution_count": 77,
   "id": "6d8b72cb",
   "metadata": {},
   "outputs": [],
   "source": [
    "# setting a value with index range\n",
    "\n",
    "in_arr[1:4] = 0"
   ]
  },
  {
   "cell_type": "code",
   "execution_count": 78,
   "id": "338e3642",
   "metadata": {},
   "outputs": [
    {
     "data": {
      "text/plain": [
       "array([20,  0,  0,  0, 24, 25, 26, 27, 28, 29])"
      ]
     },
     "execution_count": 78,
     "metadata": {},
     "output_type": "execute_result"
    }
   ],
   "source": [
    "in_arr"
   ]
  },
  {
   "cell_type": "markdown",
   "id": "3ba0995b",
   "metadata": {},
   "source": [
    "One thing must be noted that the broadcast change has been made to original array as well. It is done to avoid memory issues. if we want our original array to stay intact, then we should make a copy of the original array and then broadcast in the copy of array."
   ]
  },
  {
   "cell_type": "code",
   "execution_count": 79,
   "id": "1cbbc5fb",
   "metadata": {},
   "outputs": [
    {
     "data": {
      "text/plain": [
       "array([20,  0,  0,  0, 24, 25, 26])"
      ]
     },
     "execution_count": 79,
     "metadata": {},
     "output_type": "execute_result"
    }
   ],
   "source": [
    "in_arr[:7]"
   ]
  },
  {
   "cell_type": "code",
   "execution_count": 80,
   "id": "d4f3e734",
   "metadata": {},
   "outputs": [
    {
     "data": {
      "text/plain": [
       "array([25, 26, 27, 28, 29])"
      ]
     },
     "execution_count": 80,
     "metadata": {},
     "output_type": "execute_result"
    }
   ],
   "source": [
    "in_arr[5:]"
   ]
  },
  {
   "cell_type": "markdown",
   "id": "bc1548db",
   "metadata": {},
   "source": [
    "We will try making copy of an array and do the slicing on the copy of the array"
   ]
  },
  {
   "cell_type": "code",
   "execution_count": 84,
   "id": "5c141141",
   "metadata": {},
   "outputs": [
    {
     "data": {
      "text/plain": [
       "array([ 0,  1,  2,  3,  4,  5,  6,  7,  8,  9, 10])"
      ]
     },
     "execution_count": 84,
     "metadata": {},
     "output_type": "execute_result"
    }
   ],
   "source": [
    "my_arr = np.arange(0,11)\n",
    "my_arr"
   ]
  },
  {
   "cell_type": "code",
   "execution_count": 86,
   "id": "84a8b591",
   "metadata": {},
   "outputs": [
    {
     "data": {
      "text/plain": [
       "array([ 0,  1,  2,  3,  4,  5,  6,  7,  8,  9, 10])"
      ]
     },
     "execution_count": 86,
     "metadata": {},
     "output_type": "execute_result"
    }
   ],
   "source": [
    "my_arr_copy = my_arr.copy()\n",
    "my_arr_copy"
   ]
  },
  {
   "cell_type": "code",
   "execution_count": 88,
   "id": "7c73eeee",
   "metadata": {},
   "outputs": [
    {
     "data": {
      "text/plain": [
       "array([50, 50, 50, 50, 50,  5,  6,  7,  8,  9, 10])"
      ]
     },
     "execution_count": 88,
     "metadata": {},
     "output_type": "execute_result"
    }
   ],
   "source": [
    "my_arr_copy[0:5] = 50\n",
    "my_arr_copy"
   ]
  },
  {
   "cell_type": "code",
   "execution_count": 89,
   "id": "4c37d208",
   "metadata": {},
   "outputs": [
    {
     "data": {
      "text/plain": [
       "array([ 0,  1,  2,  3,  4,  5,  6,  7,  8,  9, 10])"
      ]
     },
     "execution_count": 89,
     "metadata": {},
     "output_type": "execute_result"
    }
   ],
   "source": [
    "my_arr"
   ]
  },
  {
   "cell_type": "markdown",
   "id": "109475c1",
   "metadata": {},
   "source": [
    "we can see that the original array remained unchanged and slicing only changed the copy of the array"
   ]
  },
  {
   "cell_type": "markdown",
   "id": "d764d08b",
   "metadata": {},
   "source": [
    "### Indexing 2D arrays (matrices)"
   ]
  },
  {
   "cell_type": "code",
   "execution_count": 94,
   "id": "b009a79d",
   "metadata": {},
   "outputs": [
    {
     "data": {
      "text/plain": [
       "array([[1, 2, 3],\n",
       "       [4, 5, 6],\n",
       "       [7, 8, 9]])"
      ]
     },
     "execution_count": 94,
     "metadata": {},
     "output_type": "execute_result"
    }
   ],
   "source": [
    "new_arr = np.array([[1,2,3],[4,5,6],[7,8,9]])\n",
    "new_arr"
   ]
  },
  {
   "cell_type": "code",
   "execution_count": 105,
   "id": "600e09ac",
   "metadata": {},
   "outputs": [
    {
     "data": {
      "text/plain": [
       "array([[5, 6],\n",
       "       [8, 9]])"
      ]
     },
     "execution_count": 105,
     "metadata": {},
     "output_type": "execute_result"
    }
   ],
   "source": [
    "#slicing portion of array\n",
    "\n",
    "new_arr[1:,1:]"
   ]
  },
  {
   "cell_type": "code",
   "execution_count": 108,
   "id": "fc22fc03",
   "metadata": {},
   "outputs": [
    {
     "data": {
      "text/plain": [
       "array([[ 0,  1,  2,  3,  4,  5,  6,  7,  8,  9],\n",
       "       [10, 11, 12, 13, 14, 15, 16, 17, 18, 19],\n",
       "       [20, 21, 22, 23, 24, 25, 26, 27, 28, 29],\n",
       "       [30, 31, 32, 33, 34, 35, 36, 37, 38, 39],\n",
       "       [40, 41, 42, 43, 44, 45, 46, 47, 48, 49],\n",
       "       [50, 51, 52, 53, 54, 55, 56, 57, 58, 59],\n",
       "       [60, 61, 62, 63, 64, 65, 66, 67, 68, 69],\n",
       "       [70, 71, 72, 73, 74, 75, 76, 77, 78, 79],\n",
       "       [80, 81, 82, 83, 84, 85, 86, 87, 88, 89],\n",
       "       [90, 91, 92, 93, 94, 95, 96, 97, 98, 99]])"
      ]
     },
     "execution_count": 108,
     "metadata": {},
     "output_type": "execute_result"
    }
   ],
   "source": [
    "large_arr = np.arange(0,100).reshape(10,10)\n",
    "large_arr"
   ]
  },
  {
   "cell_type": "code",
   "execution_count": 112,
   "id": "505f2dc3",
   "metadata": {},
   "outputs": [
    {
     "data": {
      "text/plain": [
       "array([[43, 44, 45, 46],\n",
       "       [53, 54, 55, 56],\n",
       "       [63, 64, 65, 66]])"
      ]
     },
     "execution_count": 112,
     "metadata": {},
     "output_type": "execute_result"
    }
   ],
   "source": [
    "large_arr[4:7,3:7]"
   ]
  },
  {
   "cell_type": "code",
   "execution_count": 114,
   "id": "31521221",
   "metadata": {},
   "outputs": [
    {
     "data": {
      "text/plain": [
       "array([[37]])"
      ]
     },
     "execution_count": 114,
     "metadata": {},
     "output_type": "execute_result"
    }
   ],
   "source": [
    "large_arr[3:4,7:8]"
   ]
  },
  {
   "cell_type": "markdown",
   "id": "7bf0a924",
   "metadata": {},
   "source": [
    "### Selection"
   ]
  },
  {
   "cell_type": "code",
   "execution_count": 116,
   "id": "caa9d7c0",
   "metadata": {},
   "outputs": [
    {
     "data": {
      "text/plain": [
       "array([ 0,  1,  2,  3,  4,  5,  6,  7,  8,  9, 10])"
      ]
     },
     "execution_count": 116,
     "metadata": {},
     "output_type": "execute_result"
    }
   ],
   "source": [
    "select_arr = np.arange(0,11)\n",
    "select_arr"
   ]
  },
  {
   "cell_type": "code",
   "execution_count": 118,
   "id": "531ce622",
   "metadata": {},
   "outputs": [
    {
     "data": {
      "text/plain": [
       "array([100, 100, 100, 100, 100,   5,   6,   7,   8,   9,  10])"
      ]
     },
     "execution_count": 118,
     "metadata": {},
     "output_type": "execute_result"
    }
   ],
   "source": [
    "select_arr[:5] = 100\n",
    "select_arr"
   ]
  },
  {
   "cell_type": "code",
   "execution_count": 120,
   "id": "f3ca96c3",
   "metadata": {},
   "outputs": [
    {
     "data": {
      "text/plain": [
       "array([False, False, False, False, False,  True,  True,  True,  True,\n",
       "        True,  True])"
      ]
     },
     "execution_count": 120,
     "metadata": {},
     "output_type": "execute_result"
    }
   ],
   "source": [
    "select_arr < 100"
   ]
  },
  {
   "cell_type": "code",
   "execution_count": 122,
   "id": "0cc92098",
   "metadata": {},
   "outputs": [
    {
     "data": {
      "text/plain": [
       "array([ 5,  6,  7,  8,  9, 10])"
      ]
     },
     "execution_count": 122,
     "metadata": {},
     "output_type": "execute_result"
    }
   ],
   "source": [
    "select_arr[select_arr < 100]"
   ]
  },
  {
   "cell_type": "markdown",
   "id": "e3422b67",
   "metadata": {},
   "source": [
    "By the above method select_arr will only return the value of the elements and not boolen value of the array i.e. True or False"
   ]
  },
  {
   "cell_type": "markdown",
   "id": "9a8dc1c6",
   "metadata": {},
   "source": [
    "## Numpy Operations\n",
    "### Arithmatic\n",
    "\n",
    "We can easily perform normal arithmatic operations on arrays"
   ]
  },
  {
   "cell_type": "code",
   "execution_count": 125,
   "id": "ee6da004",
   "metadata": {},
   "outputs": [
    {
     "data": {
      "text/plain": [
       "array([0, 1, 2, 3, 4, 5, 6, 7, 8, 9])"
      ]
     },
     "execution_count": 125,
     "metadata": {},
     "output_type": "execute_result"
    }
   ],
   "source": [
    "arr = np.arange(0,10)\n",
    "arr"
   ]
  },
  {
   "cell_type": "code",
   "execution_count": 126,
   "id": "4d0bef30",
   "metadata": {},
   "outputs": [
    {
     "data": {
      "text/plain": [
       "array([ 0,  2,  4,  6,  8, 10, 12, 14, 16, 18])"
      ]
     },
     "execution_count": 126,
     "metadata": {},
     "output_type": "execute_result"
    }
   ],
   "source": [
    "#addition\n",
    "\n",
    "arr + arr"
   ]
  },
  {
   "cell_type": "code",
   "execution_count": 127,
   "id": "4cb01cab",
   "metadata": {},
   "outputs": [
    {
     "data": {
      "text/plain": [
       "array([0, 0, 0, 0, 0, 0, 0, 0, 0, 0])"
      ]
     },
     "execution_count": 127,
     "metadata": {},
     "output_type": "execute_result"
    }
   ],
   "source": [
    "#subtraction \n",
    "\n",
    "arr - arr"
   ]
  },
  {
   "cell_type": "code",
   "execution_count": 128,
   "id": "a9ac861f",
   "metadata": {},
   "outputs": [
    {
     "data": {
      "text/plain": [
       "array([ 0,  1,  4,  9, 16, 25, 36, 49, 64, 81])"
      ]
     },
     "execution_count": 128,
     "metadata": {},
     "output_type": "execute_result"
    }
   ],
   "source": [
    "# multiplication\n",
    "\n",
    "arr * arr"
   ]
  },
  {
   "cell_type": "code",
   "execution_count": 130,
   "id": "cddbf3b0",
   "metadata": {},
   "outputs": [
    {
     "name": "stderr",
     "output_type": "stream",
     "text": [
      "C:\\Users\\MANISH~1\\AppData\\Local\\Temp/ipykernel_4264/2442522582.py:3: RuntimeWarning: invalid value encountered in true_divide\n",
      "  arr / arr\n"
     ]
    },
    {
     "data": {
      "text/plain": [
       "array([nan,  1.,  1.,  1.,  1.,  1.,  1.,  1.,  1.,  1.])"
      ]
     },
     "execution_count": 130,
     "metadata": {},
     "output_type": "execute_result"
    }
   ],
   "source": [
    "#division\n",
    "# we get warning but not an error. note nan value \n",
    "arr / arr"
   ]
  },
  {
   "cell_type": "code",
   "execution_count": 131,
   "id": "5e7041b9",
   "metadata": {},
   "outputs": [
    {
     "data": {
      "text/plain": [
       "array([ 0,  1,  4,  9, 16, 25, 36, 49, 64, 81], dtype=int32)"
      ]
     },
     "execution_count": 131,
     "metadata": {},
     "output_type": "execute_result"
    }
   ],
   "source": [
    "arr ** 2"
   ]
  },
  {
   "cell_type": "code",
   "execution_count": 132,
   "id": "29e4c3ae",
   "metadata": {},
   "outputs": [
    {
     "data": {
      "text/plain": [
       "array([  0,   1,   8,  27,  64, 125, 216, 343, 512, 729], dtype=int32)"
      ]
     },
     "execution_count": 132,
     "metadata": {},
     "output_type": "execute_result"
    }
   ],
   "source": [
    "arr ** 3"
   ]
  },
  {
   "cell_type": "markdown",
   "id": "4db810ad",
   "metadata": {},
   "source": [
    "### Universal Array Functions\n",
    "Numpy comes with wide range of universal operations which can be used for mathematical operations on arrays. For more, check [Universal Functions](https://numpy.org/doc/stable/reference/ufuncs.html)"
   ]
  },
  {
   "cell_type": "code",
   "execution_count": 133,
   "id": "a152b26d",
   "metadata": {},
   "outputs": [
    {
     "data": {
      "text/plain": [
       "array([0.        , 1.        , 1.41421356, 1.73205081, 2.        ,\n",
       "       2.23606798, 2.44948974, 2.64575131, 2.82842712, 3.        ])"
      ]
     },
     "execution_count": 133,
     "metadata": {},
     "output_type": "execute_result"
    }
   ],
   "source": [
    "# taking square root\n",
    " \n",
    "square_root = np.sqrt(arr)\n",
    "square_root"
   ]
  },
  {
   "cell_type": "code",
   "execution_count": 134,
   "id": "ca2daa92",
   "metadata": {},
   "outputs": [
    {
     "data": {
      "text/plain": [
       "array([1.00000000e+00, 2.71828183e+00, 7.38905610e+00, 2.00855369e+01,\n",
       "       5.45981500e+01, 1.48413159e+02, 4.03428793e+02, 1.09663316e+03,\n",
       "       2.98095799e+03, 8.10308393e+03])"
      ]
     },
     "execution_count": 134,
     "metadata": {},
     "output_type": "execute_result"
    }
   ],
   "source": [
    "#calculating exponential\n",
    "\n",
    "np.exp(arr)"
   ]
  },
  {
   "cell_type": "code",
   "execution_count": 136,
   "id": "c0a5742b",
   "metadata": {},
   "outputs": [
    {
     "data": {
      "text/plain": [
       "9"
      ]
     },
     "execution_count": 136,
     "metadata": {},
     "output_type": "execute_result"
    }
   ],
   "source": [
    "# for fun let's combine two functions\n",
    "\n",
    "diff = np.max(arr) - np.min(arr)\n",
    "diff"
   ]
  },
  {
   "cell_type": "code",
   "execution_count": 137,
   "id": "67a23e23",
   "metadata": {},
   "outputs": [
    {
     "data": {
      "text/plain": [
       "array([ 0.        ,  0.84147098,  0.90929743,  0.14112001, -0.7568025 ,\n",
       "       -0.95892427, -0.2794155 ,  0.6569866 ,  0.98935825,  0.41211849])"
      ]
     },
     "execution_count": 137,
     "metadata": {},
     "output_type": "execute_result"
    }
   ],
   "source": [
    "#calculating sin value\n",
    "\n",
    "np.sin(arr)"
   ]
  },
  {
   "cell_type": "code",
   "execution_count": 138,
   "id": "5c6eca05",
   "metadata": {},
   "outputs": [
    {
     "name": "stderr",
     "output_type": "stream",
     "text": [
      "C:\\Users\\MANISH~1\\AppData\\Local\\Temp/ipykernel_4264/3205693611.py:3: RuntimeWarning: divide by zero encountered in log\n",
      "  np.log(arr)\n"
     ]
    },
    {
     "data": {
      "text/plain": [
       "array([      -inf, 0.        , 0.69314718, 1.09861229, 1.38629436,\n",
       "       1.60943791, 1.79175947, 1.94591015, 2.07944154, 2.19722458])"
      ]
     },
     "execution_count": 138,
     "metadata": {},
     "output_type": "execute_result"
    }
   ],
   "source": [
    "#calculating log\n",
    "\n",
    "np.log(arr)"
   ]
  },
  {
   "cell_type": "code",
   "execution_count": 142,
   "id": "76f40639",
   "metadata": {},
   "outputs": [
    {
     "name": "stdout",
     "output_type": "stream",
     "text": [
      "4.5\n",
      "2.8722813232690143\n"
     ]
    }
   ],
   "source": [
    "print(np.mean(arr))\n",
    "print(np.std(arr))"
   ]
  },
  {
   "cell_type": "code",
   "execution_count": null,
   "id": "d65683d6",
   "metadata": {},
   "outputs": [],
   "source": []
  }
 ],
 "metadata": {
  "kernelspec": {
   "display_name": "Python 3 (ipykernel)",
   "language": "python",
   "name": "python3"
  },
  "language_info": {
   "codemirror_mode": {
    "name": "ipython",
    "version": 3
   },
   "file_extension": ".py",
   "mimetype": "text/x-python",
   "name": "python",
   "nbconvert_exporter": "python",
   "pygments_lexer": "ipython3",
   "version": "3.9.7"
  }
 },
 "nbformat": 4,
 "nbformat_minor": 5
}
